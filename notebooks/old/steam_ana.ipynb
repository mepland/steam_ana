{
 "cells": [
  {
   "cell_type": "markdown",
   "metadata": {},
   "source": [
    "# Exploring Steam Genres\n",
    "Matthew Epland  \n",
    "[phy.duke.edu/~mbe9](http://www.phy.duke.edu/~mbe9)"
   ]
  },
  {
   "cell_type": "markdown",
   "metadata": {},
   "source": [
    "### Setup"
   ]
  },
  {
   "cell_type": "code",
   "execution_count": null,
   "metadata": {},
   "outputs": [],
   "source": [
    "import pandas as pd\n",
    "import numpy as np\n",
    "import networkx as nx\n",
    "import community\n",
    "import matplotlib as mpl\n",
    "import matplotlib.pyplot as plt\n",
    "from matplotlib import gridspec\n",
    "import os\n",
    "import math\n",
    "from itertools import cycle\n",
    "from ast import literal_eval\n",
    "import json\n",
    "import collections\n",
    "# import warnings\n",
    "import math\n",
    "\n",
    "# For display purposes\n",
    "%matplotlib inline\n",
    "\n",
    "from visJS2jupyter import visJS_module"
   ]
  },
  {
   "cell_type": "code",
   "execution_count": null,
   "metadata": {},
   "outputs": [],
   "source": [
    "color_order=[0,2,4,6,8,10,14,16,18,12,1,3,5,7,9,11,15,17,19,13]"
   ]
  },
  {
   "cell_type": "code",
   "execution_count": null,
   "metadata": {},
   "outputs": [],
   "source": [
    "output_path = '../output'"
   ]
  },
  {
   "cell_type": "code",
   "execution_count": null,
   "metadata": {},
   "outputs": [],
   "source": [
    "# Define a function to create the output dir, if it already exists don't crash, otherwise raise an exception\n",
    "# Adapted from A-B-B's response to http://stackoverflow.com/questions/273192/in-python-check-if-a-directory-exists-and-create-it-if-necessary\n",
    "# Note in python 3.4+ 'os.makedirs(output_path, exist_ok=True)' would handle all of this...\n",
    "def make_path(path):\n",
    "    try:\n",
    "        os.makedirs(path)\n",
    "    except OSError:\n",
    "        if not os.path.isdir(path):\n",
    "            raise Exception('Problem creating output dir %s !!!\\nA file with the same name probably already exists, please fix the conflict and run again.' % path)"
   ]
  },
  {
   "cell_type": "markdown",
   "metadata": {},
   "source": [
    "### Define custom color functions for good discrete node colors, min / max edge colors  \n",
    "It has to be in this string format for visJS2jupyter. See [`return_node_to_color()`](https://github.com/ucsd-ccbb/visJS2jupyter/blob/master/visJS2jupyter/visJS_module.py#L558) and [`return_edge_to_color()`](https://github.com/ucsd-ccbb/visJS2jupyter/blob/master/visJS2jupyter/visJS_module.py#L605) in [visJS_module.py](https://github.com/ucsd-ccbb/visJS2jupyter/blob/master/visJS2jupyter/visJS_module.py) for the normal methods  "
   ]
  },
  {
   "cell_type": "code",
   "execution_count": null,
   "metadata": {},
   "outputs": [],
   "source": [
    "def my_node_to_color(G,field_to_map='degree'):\n",
    "    nodes_with_data = [(n[0], max(n[1][field_to_map], 0)) for n in G.nodes(data=True)]\n",
    "\n",
    "    cmap_nsteps=20\n",
    "    if len(color_order)!=cmap_nsteps: print \"len(color_order)!=cmap_nsteps, you might have problems!!\"\n",
    "    cmap=plt.get_cmap(\"tab20\")\n",
    "    alpha = 1.0\n",
    "    \n",
    "    color_list_raw = cmap(np.linspace(0, 1, cmap_nsteps)) \n",
    "  \n",
    "    nodes,data = zip(*nodes_with_data)\n",
    "    data = [color_order[d % len(color_order)] for d in data] # TODO not enough colors for communities, needed % len!\n",
    "    nodes_with_data = zip(nodes,data)\n",
    "\n",
    "    node_to_mapField = dict(nodes_with_data)\n",
    "    color_list = [color_list_raw[node_to_mapField[d]] for d in G.nodes()]\n",
    "    \n",
    "    color_list = [(int(256*c[0]),int(256*c[1]),int(256*c[2]),alpha) for c in color_list]\n",
    "    node_to_color = dict(zip(list(G.nodes()),['rgba'+str(c) for c in color_list]))\n",
    "\n",
    "    return node_to_color"
   ]
  },
  {
   "cell_type": "code",
   "execution_count": null,
   "metadata": {},
   "outputs": [],
   "source": [
    "color_max_frac=1.0\n",
    "color_min_frac=0.15\n",
    "    \n",
    "def my_edge_to_color_log_transform(weight, weight_max):\n",
    "    color_to_mult = color_max_frac-color_min_frac\n",
    "    color_to_add = color_min_frac\n",
    "    \n",
    "    # for cmap, weight scaled to [0, 1], taking the log and acounting for color_max_frac, color_min_frac\n",
    "    return (np.log(weight)/np.log(weight_max))*color_to_mult + color_to_add\n",
    " \n",
    "def my_edge_to_color(G,field_to_map='weight'):\n",
    "    cmap=plt.cm.Greys\n",
    "    alpha=1.0\n",
    "\n",
    "    G_edges = G.edges(data=True)\n",
    "    edges_with_data = [(e[0],e[1],e[2][field_to_map]) for e in G_edges]\n",
    "    edges1,edges2,data = zip(*edges_with_data)\n",
    "\n",
    "    # turn off some safety code to make it easier to replicate in mpl, should have safe weight values anyway\n",
    "    # min_dn0 = min(data)\n",
    "    # data = [np.log(max(d,min_dn0)) for d in data]  # set the zero d values to minimum non0 value\n",
    "    # data = [(d-np.min(data)) for d in data] # shift so we don't have any negative values\n",
    "\n",
    "    data = [np.log(d) for d in data]\n",
    "\n",
    "    G_edges = G.edges()\n",
    "    edges_with_data = zip(zip(edges1,edges2),data)\n",
    " \n",
    "    color_to_mult = 256*(color_max_frac-color_min_frac)\n",
    "    color_to_add = 256*color_min_frac\n",
    "\n",
    "    edge_to_mapField = dict(edges_with_data)\n",
    "    color_list = [np.multiply(cmap(int((float(edge_to_mapField[d])/np.max(list(edge_to_mapField.values())))*color_to_mult+color_to_add)),256) for d in G_edges]\n",
    "\n",
    "    color_list = [(int(c[0]),int(c[1]),int(c[2]),alpha) for c in color_list]\n",
    "    edge_to_color = dict(zip(list(G_edges),['rgba'+str(c) for c in color_list]))\n",
    "\n",
    "    return edge_to_color\n",
    "\n",
    "# function to convert visJS2jupyter text colors to regular matplotlib colot tuples\n",
    "def color_str_to_tuple(color_str):\n",
    "    color_str = color_str.replace('rgba','')\n",
    "    color_tuple_raw = literal_eval(color_str)\n",
    "    color_tuple = [x / 256.0 for x in color_tuple_raw[:3]]\n",
    "    color_tuple.append(color_tuple_raw[3])\n",
    "    return color_tuple"
   ]
  },
  {
   "cell_type": "code",
   "execution_count": null,
   "metadata": {},
   "outputs": [],
   "source": [
    "# Convert between visJS2jupyter and matplotlib symbol names\n",
    "visJS_to_mpl_symbol={\n",
    "'dot':'o',\n",
    "'square':'s',\n",
    "'triangleDown':'v',\n",
    "'triangle':'^',\n",
    "'diamond':'D',\n",
    "'star':'*'\n",
    "}"
   ]
  },
  {
   "cell_type": "markdown",
   "metadata": {},
   "source": [
    "## Load Data"
   ]
  },
  {
   "cell_type": "code",
   "execution_count": null,
   "metadata": {},
   "outputs": [],
   "source": [
    "# TODO eventually will need to load all the _i files here and merge them smartly\n",
    "# for now, just load some of the edges to get started in networkx\n",
    "edges_path = '../data/edges_0.csv'\n",
    "nrows=None\n",
    "df_e_tmp= pd.read_csv(edges_path, dtype={'n1': int, 'n2': int, 'records':int}, nrows=nrows)"
   ]
  },
  {
   "cell_type": "code",
   "execution_count": null,
   "metadata": {},
   "outputs": [],
   "source": [
    "mean_records = df_e_tmp['records'].mean()\n",
    "print('mean_records = {0:.2f}'.format(mean_records))"
   ]
  },
  {
   "cell_type": "code",
   "execution_count": null,
   "metadata": {},
   "outputs": [],
   "source": [
    "min_edge_weight=15\n",
    "nedges=2500"
   ]
  },
  {
   "cell_type": "code",
   "execution_count": null,
   "metadata": {},
   "outputs": [],
   "source": [
    "app_genres_path = '../data/app_genres.csv'\n",
    "app_id_path = '../data/app_id.csv'\n",
    "\n",
    "df_g = pd.read_csv(app_genres_path, dtype={'appid': int, 'Genre': object})\n",
    "df_t = pd.read_csv(app_id_path, dtype={'appid': int, 'Title': object})"
   ]
  },
  {
   "cell_type": "code",
   "execution_count": null,
   "metadata": {},
   "outputs": [],
   "source": [
    "g_names = collections.defaultdict(list)\n",
    "for index, row in df_g.iterrows():\n",
    "    g_names[row['appid']].append(row['Genre'])"
   ]
  },
  {
   "cell_type": "code",
   "execution_count": null,
   "metadata": {},
   "outputs": [],
   "source": [
    "# autogenerate symbol_list\n",
    "# g_names = list(df_g['Genre'].unique())\n",
    "# g_symbols = {k: v for k, v in zip(g_names, cycle([\"dot\", \"diamond\", \"star\", \"triangle\", \"triangleDown\", \"square\"]))}"
   ]
  },
  {
   "cell_type": "code",
   "execution_count": null,
   "metadata": {},
   "outputs": [],
   "source": [
    "if len(df_t[df_t.duplicated(subset=['appid'], keep=False)].index) > 0:\n",
    "    raise ValueError('Duplicate appid in df_t!')\n",
    "    \n",
    "df_t_index = df_t.set_index('appid')\n",
    "df_t_names = df_t_index[['Title']]\n",
    "t_names = df_t_names.to_dict()['Title']"
   ]
  },
  {
   "cell_type": "markdown",
   "metadata": {},
   "source": [
    "### Build graph G\n",
    "#### Construct G explicitly, edge by edge, so the weights are correct. Annotate nodes with the total weights from all their edges"
   ]
  },
  {
   "cell_type": "code",
   "execution_count": null,
   "metadata": {},
   "outputs": [],
   "source": [
    "def build_G(df, min_edge_weight=None, max_nedges=None):\n",
    "    G = nx.Graph()\n",
    "    for index, row in df.iterrows():\n",
    "        if max_nedges is not None:\n",
    "            if index > max_nedges:\n",
    "                break\n",
    "        n1 = row['n1']\n",
    "        n2 = row['n2']\n",
    "        weight = row['records']\n",
    "        if min_edge_weight is not None:\n",
    "            if weight < min_edge_weight:\n",
    "                continue\n",
    "        if G.has_edge(n1,n2):\n",
    "            raise ValueError('WARNING With this workflow no edge should be added twice!')\n",
    "            # G[n1][n2]['weight'] += weight\n",
    "        else:\n",
    "            G.add_edge(n1,n2,weight=weight)\n",
    "\n",
    "    total_weight_dict = {}\n",
    "    for node in G.nodes():\n",
    "        total_weight = 0.0\n",
    "        for edge in G.edges(node,data=True):\n",
    "            total_weight += edge[2]['weight']\n",
    "        total_weight_dict[node] = total_weight\n",
    "    \n",
    "    nx.set_node_attributes(G, name='total_weight', values=total_weight_dict)\n",
    "\n",
    "    return G"
   ]
  },
  {
   "cell_type": "code",
   "execution_count": null,
   "metadata": {},
   "outputs": [],
   "source": [
    "df_e = df_e_tmp.sample(frac=1,replace=False,random_state=5).reset_index(drop=True)"
   ]
  },
  {
   "cell_type": "code",
   "execution_count": null,
   "metadata": {},
   "outputs": [],
   "source": [
    "# now actually create graph\n",
    "G = build_G(df_e, min_edge_weight=min_edge_weight, max_nedges=nedges)"
   ]
  },
  {
   "cell_type": "markdown",
   "metadata": {},
   "source": [
    "### Create positions using the Fruchterman-Reingold force-directed / spring algorithm"
   ]
  },
  {
   "cell_type": "code",
   "execution_count": null,
   "metadata": {},
   "outputs": [],
   "source": [
    "# k=1/sqrt(n) is the default spring / spacing parameter\n",
    "# Increase max iterations to 100, just in case it needs it\n",
    "# Need to install networkx from master to access new random_state parameter\n",
    "# Sets the random seed and allows for reproducable layouts across runs\n",
    "spring_pos = nx.spring_layout(G,\n",
    "                              k=4/np.sqrt(nx.number_of_nodes(G)),\n",
    "                              iterations=100,\n",
    "                              #random_state=5\n",
    "                             )"
   ]
  },
  {
   "cell_type": "markdown",
   "metadata": {},
   "source": [
    "### Create communities using the Louvain Method"
   ]
  },
  {
   "cell_type": "code",
   "execution_count": null,
   "metadata": {},
   "outputs": [],
   "source": [
    "# The resolution parameter affects the size of the returned communities\n",
    "# Best results found with resolution=1, the default unmodified Louvain Method\n",
    "communities = community.best_partition(G, weight='weight', resolution=1)\n",
    "\n",
    "nx.set_node_attributes(G, name='community', values=communities)\n",
    "node_to_color = my_node_to_color(G,field_to_map='community')"
   ]
  },
  {
   "cell_type": "code",
   "execution_count": null,
   "metadata": {},
   "outputs": [],
   "source": [
    "# Setup useful G variables\n",
    "nodes_all = G.nodes()\n",
    "\n",
    "# nodes_to_shape = {}\n",
    "# for n in nodes_all:\n",
    "    # nodes_to_shape[n] = g_symbols[g_names[n]]\n",
    "# nx.set_node_attributes(G, name='symbol', values=nodes_to_shape)\n",
    "\n",
    "edge_to_color_all = my_edge_to_color(G)"
   ]
  },
  {
   "cell_type": "code",
   "execution_count": null,
   "metadata": {},
   "outputs": [],
   "source": [
    "# tmp just make everything a dot\n",
    "nodes_to_shape = {}\n",
    "for n in nodes_all:\n",
    "    nodes_to_shape[n] = 'dot'\n",
    "nx.set_node_attributes(G, name='symbol', values=nodes_to_shape)"
   ]
  },
  {
   "cell_type": "markdown",
   "metadata": {},
   "source": [
    "## Plot static graphs"
   ]
  },
  {
   "cell_type": "code",
   "execution_count": null,
   "metadata": {},
   "outputs": [],
   "source": [
    "def plot_graph(G, pos, m_path, edge_bin_size=20, edge_weight_str=None, skip_first_edge_bin=False, fname = 'graph', tag='', inline=False):\n",
    "    fig = plt.figure(fname)\n",
    "    vsize = 11 # inches\n",
    "    aspect_ratio_single = 4.0/3.0\n",
    "    fig.set_size_inches(aspect_ratio_single*vsize, vsize)\n",
    "\n",
    "    gs = gridspec.GridSpec(1,2, width_ratios=[2.8, 1])\n",
    "    ax_left = plt.subplot(gs[0])\n",
    "    ax_left.axis('off')\n",
    "    ax_left.margins(0.05,0.05)\n",
    "\n",
    "    # setup edge colors\n",
    "    color_max_frac=1.0\n",
    "    color_min_frac=0.15\n",
    "    \n",
    "    # draw edges by weight, smallest to largest, binned by edge_bin_size. This makes the graph much more readable\n",
    "    edges=G.edges(data=True)\n",
    "    edge_weight_class_ordering=sorted(set([np.ceil(edge[2]['weight']/edge_bin_size) for edge in edges]))\n",
    "    for iweight_class, weight_class in enumerate(edge_weight_class_ordering):\n",
    "        if skip_first_edge_bin and iweight_class == 0:\n",
    "            continue\n",
    "        edges_to_draw=[edge for edge in edges if np.ceil(edge[2]['weight']/edge_bin_size)==weight_class]\n",
    "        edge_colors = [color_str_to_tuple(edge_to_color_all.get((e[0],e[1]), edge_to_color_all.get((e[1],e[0]), None))) for e in edges_to_draw]\n",
    "        nx.draw_networkx_edges(G,pos,edgelist=edges_to_draw,ax=ax_left,width=4,edge_color=edge_colors)\n",
    "\n",
    "    # have to do a call per symbol due to networkx limitations, so we can't really draw in order of weight\n",
    "    for shape in set((node[1]['symbol'] for node in G.nodes(data = True))):\n",
    "        node_list = [node[0] for node in filter(lambda x: x[1]['symbol']==shape,G.nodes(data = True))]\n",
    "        nx.draw_networkx_nodes(G, ax=ax_left, pos=pos, nodelist=node_list,\n",
    "                               node_color=[color_str_to_tuple(node_to_color[n]) for n in node_list],\n",
    "                               node_size=50, # constant size\n",
    "                               # node_size=[20*np.log(G.node[n]['total_weight']) for n in node_list],\n",
    "                               node_shape=visJS_to_mpl_symbol[shape]\n",
    "                              )\n",
    "\n",
    "    ax_right = plt.subplot(gs[1])\n",
    "    ax_right.axis('off')\n",
    "    ax_right.margins(0,0)\n",
    "\n",
    "    # community legend\n",
    "    node_communities = [n[1]['community'] for n in G.nodes(data=True)]\n",
    "\n",
    "    community_leg_objects=[]\n",
    "    community_colors = {}\n",
    "    for community in set((node[1]['community'] for node in G.nodes(data = True))):\n",
    "        node_list = [node[0] for node in filter(lambda x: x[1]['community']==community,G.nodes(data = True))]\n",
    "        community_leg_objects.append(plt.Line2D([0],[0],marker='s',ls='none',markersize=18,\n",
    "                                     label='Community {0:d} ({1:d})'.format(community, node_communities.count(community)),\n",
    "                                     color=color_str_to_tuple(node_to_color[node_list[0]])\n",
    "                                     ))\n",
    "\n",
    "    community_leg = plt.legend(community_leg_objects, [ob.get_label() for ob in community_leg_objects], fontsize='large',\n",
    "                               # bbox_to_anchor=(-0.2,0.86), loc='upper left', borderaxespad=0.0)\n",
    "                               bbox_to_anchor=(-0.2,0.98), loc='upper left', borderaxespad=0.0)\n",
    "    community_leg.set_title('Louvain Communities',prop={'size':'large','weight':'bold'})\n",
    "    community_leg._legend_box.align = 'left'\n",
    "    community_leg.get_frame().set_edgecolor('white')\n",
    "    community_leg.get_frame().set_facecolor('white')\n",
    "\n",
    "    plt.gca().add_artist(community_leg)\n",
    "\n",
    "    # edge weight colorbar cb1\n",
    "    edge_weights = [e[2]['weight'] for e in G.edges(data=True)]\n",
    "    if min(edge_weights) != 1.0:\n",
    "        print('min edge weight != 1, edge color scale might be off...')\n",
    "    edge_weight_max = int(max(edge_weights))\n",
    "\n",
    "    edge_weight_max_limit = 10000 # TODO\n",
    "    # if abs(float(edge_weight_max-edge_weight_max_limit))/edge_weight_max_limit > 0.02:\n",
    "    #     print('WARNING edge_weight_max = {0:f} differs from hard coded max of {1:f} by more than 2%!!').format(edge_weight_max, edge_weight_max_limit)\n",
    "\n",
    "    cb1_tick_labels = [1, 10, 100, 1000, 10000]\n",
    "    cb1_ticks=[my_edge_to_color_log_transform(l,10000.0) for l in cb1_tick_labels]\n",
    "\n",
    "    # cax = fig.add_axes([0.718, 0.51, 0.245, 0.045])\n",
    "    cax = fig.add_axes([0.718, 0.15, 0.245, 0.045])\n",
    "    cmap = plt.cm.Greys\n",
    "    norm = mpl.colors.Normalize(vmin=0, vmax=1)\n",
    "    cb1 = mpl.colorbar.ColorbarBase(cax, cmap=cmap, norm=norm, orientation='horizontal',ticks=cb1_ticks)\n",
    "    cb1.set_label('Edge Weight', fontsize='large',weight='bold') #  $W_{ij}$\n",
    "    cb1.ax.set_xticklabels(cb1_tick_labels)\n",
    "\n",
    "    if edge_weight_str is not None:\n",
    "        plt.figtext(0.85, 0.44, edge_weight_str, size=18, ha='center', va='top')\n",
    "\n",
    "    plt.figtext(0.85, 0.05, 'Node Size$\\propto$ Total Weight', size=18, ha='center', va='top')\n",
    "\n",
    "#    with warnings.catch_warnings(): # https://stackoverflow.com/questions/22227165/catch-matplotlib-warning\n",
    "#        warnings.simplefilter(\"ignore\")\n",
    "#        plt.tight_layout()\n",
    "    make_path(m_path)\n",
    "    fig.savefig('{0:s}/{1:s}{2:s}.pdf'.format(m_path, fname, tag))\n",
    "    if inline:\n",
    "        plt.show()\n",
    "    plt.close('all')"
   ]
  },
  {
   "cell_type": "code",
   "execution_count": null,
   "metadata": {},
   "outputs": [],
   "source": [
    "plot_graph(G, spring_pos, output_path, skip_first_edge_bin=False, fname = 'graph_with_all_communities', inline=True)"
   ]
  },
  {
   "cell_type": "markdown",
   "metadata": {},
   "source": [
    "### Prune small communities"
   ]
  },
  {
   "cell_type": "code",
   "execution_count": null,
   "metadata": {},
   "outputs": [],
   "source": [
    "def prune_communities(G, min_size=2):\n",
    "    G_pruned = G.copy()\n",
    "    node_communities = [n[1]['community'] for n in G.nodes(data=True)]\n",
    "    for community in set(node_communities):\n",
    "        if node_communities.count(community) < min_size:\n",
    "            node_list = [node[0] for node in filter(lambda x: x[1]['community']==community,G.nodes(data = True))]\n",
    "            for node in node_list:\n",
    "                for e in G_pruned.edges(node):\n",
    "                    G_pruned.remove_edge(e[0],e[1])\n",
    "                G_pruned.remove_node(node)\n",
    "    return G_pruned"
   ]
  },
  {
   "cell_type": "code",
   "execution_count": null,
   "metadata": {},
   "outputs": [],
   "source": [
    "G_pruned = prune_communities(G, min_size=16)"
   ]
  },
  {
   "cell_type": "code",
   "execution_count": null,
   "metadata": {},
   "outputs": [],
   "source": [
    "plot_graph(G_pruned, spring_pos, output_path, skip_first_edge_bin=False, fname = 'graph_pruned', inline=True)"
   ]
  },
  {
   "cell_type": "markdown",
   "metadata": {},
   "source": [
    "### Describe Communities"
   ]
  },
  {
   "cell_type": "code",
   "execution_count": null,
   "metadata": {},
   "outputs": [],
   "source": [
    "def community_info(G):\n",
    "    community_info = {}\n",
    "    for community in set([n[1]['community'] for n in G.nodes(data=True)]):\n",
    "        node_list = [node[0] for node in filter(lambda x: x[1]['community']==community,G.nodes(data = True))]\n",
    "        community_info[community] = {}\n",
    "        community_info[community]['Titles'] = []\n",
    "        community_info[community]['Genres'] = collections.defaultdict(int)\n",
    "        for node in node_list:\n",
    "            community_info[community]['Titles'].append(t_names.get(node, 'MISSING'))\n",
    "            for g in g_names[node]:\n",
    "                community_info[community]['Genres'][g] += 1\n",
    "    return community_info"
   ]
  },
  {
   "cell_type": "code",
   "execution_count": null,
   "metadata": {},
   "outputs": [],
   "source": [
    "community_info = community_info(G_pruned)"
   ]
  },
  {
   "cell_type": "code",
   "execution_count": null,
   "metadata": {},
   "outputs": [],
   "source": [
    "with open('{0:s}/community_titles.txt'.format(output_path), 'w') as f:\n",
    "    for k,v in community_info.items():\n",
    "        f.write('Community {0:d}:\\n'.format(k))\n",
    "        f.write('---------------\\n')\n",
    "        for t in v['Titles']:\n",
    "            f.write('{0:s}\\n'.format(t))\n",
    "        f.write('\\n')\n",
    "    f.close()"
   ]
  },
  {
   "cell_type": "code",
   "execution_count": null,
   "metadata": {},
   "outputs": [],
   "source": [
    "community_genre_comp = {}\n",
    "all_used_genres = []\n",
    "for k,v in community_info.items():\n",
    "    community_genre_comp[k] = {}\n",
    "    for g in v['Genres']:\n",
    "        all_used_genres.append(g)\n",
    "        if g in community_genre_comp[k].keys():\n",
    "            community_genre_comp[k][g] += 1\n",
    "        else:\n",
    "            community_genre_comp[k][g] = 1\n",
    "        \n",
    "for k1,v1 in community_genre_comp.items():\n",
    "    total = sum(v1.values())\n",
    "    for k2,v2 in v1.items():\n",
    "        community_genre_comp[k1][k2] = float(v2) / float(total)\n",
    "\n",
    "all_used_genres = sorted(list(set(all_used_genres)))"
   ]
  },
  {
   "cell_type": "code",
   "execution_count": null,
   "metadata": {},
   "outputs": [],
   "source": [
    "def plot_community_genre_comp(community_genre_comp, m_path, fname = 'genre_comps', tag='', inline=False):\n",
    "    fig = plt.figure(fname)\n",
    "    vsize = 11 # inches\n",
    "    aspect_ratio_single = 4.0/3.0\n",
    "    fig.set_size_inches(aspect_ratio_single*vsize, vsize)\n",
    "    gs = gridspec.GridSpec(1,2, width_ratios=[5, 1])\n",
    "    ax_left = plt.subplot(gs[0])\n",
    "    \n",
    "    x_axis_community = []\n",
    "    y_axis_by_genre = collections.defaultdict(list)\n",
    "    \n",
    "    for k,v in community_genre_comp.items():\n",
    "        x_axis_community.append(k)\n",
    "        for g in all_used_genres:\n",
    "            y_axis_by_genre[g].append(community_genre_comp[k].get(g, 0.0))\n",
    "\n",
    "    ind = np.arange(len(x_axis_community))\n",
    "    bottom = np.zeros(len(x_axis_community))\n",
    "    ps = []\n",
    "    for ig,g in enumerate(all_used_genres):\n",
    "        y_values = np.array(y_axis_by_genre[g])\n",
    "        p = ax_left.bar(ind, y_values, width=0.4, bottom=bottom)\n",
    "        bottom += y_values\n",
    "        ps.append(p)\n",
    "\n",
    "    ax_left.set_xlabel('Community')\n",
    "    ax_left.set_xticklabels(x_axis_community)\n",
    "    ax_left.set_xticks(ind)\n",
    "    \n",
    "    ax_left.set_ylabel('Composition')\n",
    "    ax_left.set_ylim(0., 1.)\n",
    "       \n",
    "    ax_left.xaxis.label.set_size(20)\n",
    "    ax_left.yaxis.label.set_size(20)\n",
    "    \n",
    "    ax_left.xaxis.set_tick_params(labelsize=15)\n",
    "    ax_left.yaxis.set_tick_params(labelsize=15)\n",
    "    \n",
    "    ax_right = plt.subplot(gs[1])\n",
    "    ax_right.axis('off')\n",
    "    ax_right.margins(0,0)\n",
    "\n",
    "    leg = ax_right.legend(ps[::-1], all_used_genres,bbox_to_anchor=(-0.2,0.98), loc='upper left', borderaxespad=0.0,frameon=False, fontsize=\"x-large\")\n",
    "    leg._legend_box.align = 'left'\n",
    "    leg.get_frame().set_edgecolor('none')\n",
    "    leg.get_frame().set_facecolor('none')\n",
    "\n",
    "    leg.set_title('Steam Genres',prop={'size':'x-large','weight':'bold'})\n",
    "\n",
    "    make_path(m_path)\n",
    "    fig.savefig('{0:s}/{1:s}{2:s}.pdf'.format(m_path, fname, tag))\n",
    "    if inline:\n",
    "        plt.show()\n",
    "    plt.close('all')"
   ]
  },
  {
   "cell_type": "code",
   "execution_count": null,
   "metadata": {},
   "outputs": [],
   "source": [
    "plot_community_genre_comp(community_genre_comp, output_path, fname = 'genre_comps', inline=True)"
   ]
  },
  {
   "cell_type": "markdown",
   "metadata": {},
   "source": [
    "## Draw interactive graph"
   ]
  },
  {
   "cell_type": "code",
   "execution_count": null,
   "metadata": {},
   "outputs": [],
   "source": [
    "# create nodes_dict\n",
    "nodes_pruned = G_pruned.nodes(data = False)\n",
    "seperator = ', '\n",
    "nodes_dict = [{\"id\":n,\n",
    "               \"title\":(\"<center><b>{title:s}</b><br>Community {community:d}<br>Node Weight: {total_weight:.0f}<br>Genres: {genres:s}</center>\".format(\n",
    "                   title=t_names.get(n, 'MISSING'),\n",
    "                   community=communities[n],\n",
    "                   total_weight=G_pruned.node[n]['total_weight'],\n",
    "                   genres=seperator.join(g_names[n]),\n",
    "                   )),\n",
    "               \"x\":spring_pos[n][0]*1000,\n",
    "               \"y\":(1-spring_pos[n][1])*1000,\n",
    "               \"color\":node_to_color[n],\n",
    "               \"node_shape\":G_pruned.node[n]['symbol'],\n",
    "               \"node_size\":G_pruned.node[n]['total_weight']\n",
    "              } for n in nodes_pruned]\n",
    "node_map = dict(zip(nodes_pruned,range(len(nodes_pruned)))) # map to indices for source/target in edges"
   ]
  },
  {
   "cell_type": "code",
   "execution_count": null,
   "metadata": {},
   "outputs": [],
   "source": [
    "# create edges_dict\n",
    "edges_dict = [{\"source\":node_map[e[0]],\n",
    "               \"target\":node_map[e[1]],\n",
    "               \"title\":(\"<center>n1: {n1:s}<br>n2: {n2:s}<br>Edge Weight: {e_weight:.0f}</center\".format(\n",
    "                   n1=t_names.get(e[0], 'MISSING'),\n",
    "                   n2=t_names.get(e[1], 'MISSING'),\n",
    "                   e_weight=e[2]['weight']\n",
    "               )),\n",
    "               \"color\":edge_to_color_all.get((e[0],e[1]), edge_to_color_all.get((e[1],e[0]), None)),\n",
    "              } for e in G_pruned.edges(data=True)]"
   ]
  },
  {
   "cell_type": "code",
   "execution_count": null,
   "metadata": {},
   "outputs": [],
   "source": [
    "# save the dicts for later viewing\n",
    "with open('{0:s}/nodes.json'.format(output_path), 'w') as fp:\n",
    "    json.dump(nodes_dict, fp, sort_keys=True, indent=2)\n",
    "\n",
    "with open('{0:s}/edges.json'.format(output_path), 'w') as fp:\n",
    "    json.dump(edges_dict, fp, sort_keys=True, indent=2)"
   ]
  },
  {
   "cell_type": "code",
   "execution_count": null,
   "metadata": {},
   "outputs": [],
   "source": [
    "visJS_module.visjs_network(nodes_dict, edges_dict,\n",
    "                           node_size_field='node_size', node_size_transform='Math.log', node_size_multiplier=2,\n",
    "                           node_font_size=0,\n",
    "                           edge_width=9, edge_title_field=\"title\",\n",
    "                           physics_enabled=False,\n",
    "                           graph_title=\"Interactive Steam Graph\",\n",
    "                           graph_width = 940, graph_height = 600, border_color='black',\n",
    "                           tooltip_delay = 0, graph_id = 0, config_enabled=False\n",
    "                          )"
   ]
  }
 ],
 "metadata": {
  "kernelspec": {
   "display_name": "Python 3",
   "language": "python",
   "name": "python3"
  },
  "language_info": {
   "codemirror_mode": {
    "name": "ipython",
    "version": 3
   },
   "file_extension": ".py",
   "mimetype": "text/x-python",
   "name": "python",
   "nbconvert_exporter": "python",
   "pygments_lexer": "ipython3",
   "version": "3.7.3"
  }
 },
 "nbformat": 4,
 "nbformat_minor": 2
}
